{
 "cells": [
  {
   "cell_type": "code",
   "execution_count": 13,
   "metadata": {
    "colab": {},
    "colab_type": "code",
    "id": "pEgpYgL1XjtB"
   },
   "outputs": [],
   "source": [
    "import os\n",
    "import tensorflow as tf\n",
    "from sklearn.model_selection import train_test_split\n",
    "from tensorflow.python.keras.callbacks import TensorBoard\n",
    "import pandas as pd\n",
    "import numpy as np\n",
    "from datetime import datetime\n",
    "import tensorflow as tf"
   ]
  },
  {
   "cell_type": "code",
   "execution_count": 14,
   "metadata": {
    "colab": {},
    "colab_type": "code",
    "id": "0LVk8HNBXoI6"
   },
   "outputs": [],
   "source": [
    "# model\n",
    "class MLP(tf.keras.Model):\n",
    "    def __init__(self):\n",
    "        super(MLP, self).__init__()\n",
    "        self.dense1 = tf.keras.layers.Dense(512, activation=\"relu\")\n",
    "        self.dense2 = tf.keras.layers.Dense(512, activation=\"relu\")\n",
    "        self.dropout1 = tf.keras.layers.Dropout(0.1)\n",
    "        self.dense3 = tf.keras.layers.Dense(1028, activation=\"relu\")\n",
    "        self.dense4 = tf.keras.layers.Dense(1, activation=\"relu\")\n",
    "\n",
    "    def call(self, x):\n",
    "        x = self.dense1(x)\n",
    "        x = self.dense2(x)\n",
    "        x = self.dropout1(x)\n",
    "        x = self.dense3(x)\n",
    "        return self.dense4(x)"
   ]
  },
  {
   "cell_type": "code",
   "execution_count": 15,
   "metadata": {
    "colab": {},
    "colab_type": "code",
    "id": "bAEkK1UkX9sw",
    "scrolled": false
   },
   "outputs": [
    {
     "name": "stderr",
     "output_type": "stream",
     "text": [
      "/Users/macuser/anaconda3/envs/salary_pred/lib/python3.7/site-packages/IPython/core/interactiveshell.py:3063: DtypeWarning: Columns (3,10,12,18,20,26,27) have mixed types.Specify dtype option on import or set low_memory=False.\n",
      "  interactivity=interactivity, compiler=compiler, result=result)\n",
      "/Users/macuser/anaconda3/envs/salary_pred/lib/python3.7/site-packages/IPython/core/interactiveshell.py:3063: DtypeWarning: Columns (7,9,25,26) have mixed types.Specify dtype option on import or set low_memory=False.\n",
      "  interactivity=interactivity, compiler=compiler, result=result)\n"
     ]
    }
   ],
   "source": [
    "train = pd.read_csv(\"prep_train_onehot.csv\")\n",
    "test = pd.read_csv(\"prep_test_onehot.csv\")\n",
    "df = train[\"y\"]\n",
    "predata = pd.concat([train.drop(\"y\", axis=1), test])"
   ]
  },
  {
   "cell_type": "code",
   "execution_count": 16,
   "metadata": {},
   "outputs": [
    {
     "data": {
      "text/html": [
       "<div>\n",
       "<style scoped>\n",
       "    .dataframe tbody tr th:only-of-type {\n",
       "        vertical-align: middle;\n",
       "    }\n",
       "\n",
       "    .dataframe tbody tr th {\n",
       "        vertical-align: top;\n",
       "    }\n",
       "\n",
       "    .dataframe thead th {\n",
       "        text-align: right;\n",
       "    }\n",
       "</style>\n",
       "<table border=\"1\" class=\"dataframe\">\n",
       "  <thead>\n",
       "    <tr style=\"text-align: right;\">\n",
       "      <th></th>\n",
       "      <th>y</th>\n",
       "      <th>id</th>\n",
       "      <th>Type</th>\n",
       "      <th>Region</th>\n",
       "      <th>MunicipalityCode</th>\n",
       "      <th>Prefecture</th>\n",
       "      <th>Municipality</th>\n",
       "      <th>DistrictName</th>\n",
       "      <th>NearestStation</th>\n",
       "      <th>TimeToNearestStation</th>\n",
       "      <th>...</th>\n",
       "      <th>Remarks_関係者間取引、調停・競売等、私道を含む取引</th>\n",
       "      <th>Remarks_隣地の購入</th>\n",
       "      <th>Remarks_隣地の購入、その他事情有り</th>\n",
       "      <th>Remarks_隣地の購入、瑕疵有りの可能性</th>\n",
       "      <th>Remarks_隣地の購入、私道を含む取引</th>\n",
       "      <th>Remarks_隣地の購入、調停・競売等</th>\n",
       "      <th>Remarks_隣地の購入、調停・競売等、私道を含む取引</th>\n",
       "      <th>Remarks_隣地の購入、関係者間取引</th>\n",
       "      <th>Remarks_隣地の購入、関係者間取引、私道を含む取引</th>\n",
       "      <th>era_name_昭和</th>\n",
       "    </tr>\n",
       "  </thead>\n",
       "  <tbody>\n",
       "    <tr>\n",
       "      <th>0</th>\n",
       "      <td>66.0</td>\n",
       "      <td>1</td>\n",
       "      <td>中古マンション等</td>\n",
       "      <td>NaN</td>\n",
       "      <td>13101</td>\n",
       "      <td>東京都</td>\n",
       "      <td>千代田区</td>\n",
       "      <td>飯田橋</td>\n",
       "      <td>飯田橋</td>\n",
       "      <td>1.0</td>\n",
       "      <td>...</td>\n",
       "      <td>0</td>\n",
       "      <td>0</td>\n",
       "      <td>0</td>\n",
       "      <td>0</td>\n",
       "      <td>0</td>\n",
       "      <td>0</td>\n",
       "      <td>0</td>\n",
       "      <td>0</td>\n",
       "      <td>0</td>\n",
       "      <td>1</td>\n",
       "    </tr>\n",
       "    <tr>\n",
       "      <th>1</th>\n",
       "      <td>19.0</td>\n",
       "      <td>2</td>\n",
       "      <td>中古マンション等</td>\n",
       "      <td>NaN</td>\n",
       "      <td>13101</td>\n",
       "      <td>東京都</td>\n",
       "      <td>千代田区</td>\n",
       "      <td>飯田橋</td>\n",
       "      <td>飯田橋</td>\n",
       "      <td>5.0</td>\n",
       "      <td>...</td>\n",
       "      <td>0</td>\n",
       "      <td>0</td>\n",
       "      <td>0</td>\n",
       "      <td>0</td>\n",
       "      <td>0</td>\n",
       "      <td>0</td>\n",
       "      <td>0</td>\n",
       "      <td>0</td>\n",
       "      <td>0</td>\n",
       "      <td>0</td>\n",
       "    </tr>\n",
       "    <tr>\n",
       "      <th>2</th>\n",
       "      <td>37.0</td>\n",
       "      <td>3</td>\n",
       "      <td>中古マンション等</td>\n",
       "      <td>NaN</td>\n",
       "      <td>13101</td>\n",
       "      <td>東京都</td>\n",
       "      <td>千代田区</td>\n",
       "      <td>飯田橋</td>\n",
       "      <td>飯田橋</td>\n",
       "      <td>3.0</td>\n",
       "      <td>...</td>\n",
       "      <td>0</td>\n",
       "      <td>0</td>\n",
       "      <td>0</td>\n",
       "      <td>0</td>\n",
       "      <td>0</td>\n",
       "      <td>0</td>\n",
       "      <td>0</td>\n",
       "      <td>0</td>\n",
       "      <td>0</td>\n",
       "      <td>0</td>\n",
       "    </tr>\n",
       "    <tr>\n",
       "      <th>3</th>\n",
       "      <td>18.0</td>\n",
       "      <td>4</td>\n",
       "      <td>中古マンション等</td>\n",
       "      <td>NaN</td>\n",
       "      <td>13101</td>\n",
       "      <td>東京都</td>\n",
       "      <td>千代田区</td>\n",
       "      <td>飯田橋</td>\n",
       "      <td>飯田橋</td>\n",
       "      <td>5.0</td>\n",
       "      <td>...</td>\n",
       "      <td>0</td>\n",
       "      <td>0</td>\n",
       "      <td>0</td>\n",
       "      <td>0</td>\n",
       "      <td>0</td>\n",
       "      <td>0</td>\n",
       "      <td>0</td>\n",
       "      <td>0</td>\n",
       "      <td>0</td>\n",
       "      <td>0</td>\n",
       "    </tr>\n",
       "    <tr>\n",
       "      <th>4</th>\n",
       "      <td>240.0</td>\n",
       "      <td>5</td>\n",
       "      <td>宅地(土地と建物)</td>\n",
       "      <td>商業地</td>\n",
       "      <td>13101</td>\n",
       "      <td>東京都</td>\n",
       "      <td>千代田区</td>\n",
       "      <td>飯田橋</td>\n",
       "      <td>飯田橋</td>\n",
       "      <td>3.0</td>\n",
       "      <td>...</td>\n",
       "      <td>0</td>\n",
       "      <td>0</td>\n",
       "      <td>0</td>\n",
       "      <td>0</td>\n",
       "      <td>0</td>\n",
       "      <td>0</td>\n",
       "      <td>0</td>\n",
       "      <td>0</td>\n",
       "      <td>0</td>\n",
       "      <td>1</td>\n",
       "    </tr>\n",
       "  </tbody>\n",
       "</table>\n",
       "<p>5 rows × 2329 columns</p>\n",
       "</div>"
      ],
      "text/plain": [
       "       y  id       Type Region  MunicipalityCode Prefecture Municipality  \\\n",
       "0   66.0   1   中古マンション等    NaN             13101        東京都         千代田区   \n",
       "1   19.0   2   中古マンション等    NaN             13101        東京都         千代田区   \n",
       "2   37.0   3   中古マンション等    NaN             13101        東京都         千代田区   \n",
       "3   18.0   4   中古マンション等    NaN             13101        東京都         千代田区   \n",
       "4  240.0   5  宅地(土地と建物)    商業地             13101        東京都         千代田区   \n",
       "\n",
       "  DistrictName NearestStation  TimeToNearestStation  ...  \\\n",
       "0          飯田橋            飯田橋                   1.0  ...   \n",
       "1          飯田橋            飯田橋                   5.0  ...   \n",
       "2          飯田橋            飯田橋                   3.0  ...   \n",
       "3          飯田橋            飯田橋                   5.0  ...   \n",
       "4          飯田橋            飯田橋                   3.0  ...   \n",
       "\n",
       "  Remarks_関係者間取引、調停・競売等、私道を含む取引  Remarks_隣地の購入 Remarks_隣地の購入、その他事情有り  \\\n",
       "0                             0              0                     0   \n",
       "1                             0              0                     0   \n",
       "2                             0              0                     0   \n",
       "3                             0              0                     0   \n",
       "4                             0              0                     0   \n",
       "\n",
       "   Remarks_隣地の購入、瑕疵有りの可能性  Remarks_隣地の購入、私道を含む取引  Remarks_隣地の購入、調停・競売等  \\\n",
       "0                       0                      0                     0   \n",
       "1                       0                      0                     0   \n",
       "2                       0                      0                     0   \n",
       "3                       0                      0                     0   \n",
       "4                       0                      0                     0   \n",
       "\n",
       "  Remarks_隣地の購入、調停・競売等、私道を含む取引 Remarks_隣地の購入、関係者間取引  \\\n",
       "0                            0                    0   \n",
       "1                            0                    0   \n",
       "2                            0                    0   \n",
       "3                            0                    0   \n",
       "4                            0                    0   \n",
       "\n",
       "  Remarks_隣地の購入、関係者間取引、私道を含む取引  era_name_昭和  \n",
       "0                            0            1  \n",
       "1                            0            0  \n",
       "2                            0            0  \n",
       "3                            0            0  \n",
       "4                            0            1  \n",
       "\n",
       "[5 rows x 2329 columns]"
      ]
     },
     "execution_count": 16,
     "metadata": {},
     "output_type": "execute_result"
    }
   ],
   "source": [
    "predata = predata.drop(['Type','Region','MunicipalityCode','Prefecture','Municipality','DistrictName','NearestStation',\n",
    "            'FloorPlan','LandShape','Structure','Use','Purpose','Classification','CityPlanning', 'Direction',\n",
    "            'Renovation','Remarks','era_name'], axis=1)"
   ]
  },
  {
   "cell_type": "code",
   "execution_count": 18,
   "metadata": {},
   "outputs": [
    {
     "data": {
      "text/plain": [
       "y                            0\n",
       "id                           0\n",
       "TimeToNearestStation     10129\n",
       "TotalFloorArea          236201\n",
       "Area                      1305\n",
       "Frontage                177161\n",
       "BuildingYear             82841\n",
       "Direction               159830\n",
       "Breadth                 163065\n",
       "CoverageRatio             5386\n",
       "FloorAreaRatio            5386\n",
       "Period                       0\n",
       "dtype: int64"
      ]
     },
     "execution_count": 18,
     "metadata": {},
     "output_type": "execute_result"
    }
   ],
   "source": [
    "train[[\"y\", \"id\", \"TimeToNearestStation\", \"TotalFloorArea\", \"Area\", \"Frontage\", \"BuildingYear\", \"Direction\", \"Breadth\", \"CoverageRatio\", \"FloorAreaRatio\", \"Period\"]].isnull().sum()"
   ]
  },
  {
   "cell_type": "code",
   "execution_count": 8,
   "metadata": {},
   "outputs": [
    {
     "ename": "TypeError",
     "evalue": "'<=' not supported between instances of 'str' and 'float'",
     "output_type": "error",
     "traceback": [
      "\u001b[0;31m---------------------------------------------------------------------------\u001b[0m",
      "\u001b[0;31mTypeError\u001b[0m                                 Traceback (most recent call last)",
      "\u001b[0;32m<ipython-input-8-c0440c39c2ec>\u001b[0m in \u001b[0;36m<module>\u001b[0;34m\u001b[0m\n\u001b[1;32m      7\u001b[0m \u001b[0;34m\u001b[0m\u001b[0m\n\u001b[1;32m      8\u001b[0m \u001b[0;34m\u001b[0m\u001b[0m\n\u001b[0;32m----> 9\u001b[0;31m \u001b[0mpredata\u001b[0m\u001b[0;34m[\u001b[0m\u001b[0;34m\"最寄駅：距離（分）\"\u001b[0m\u001b[0;34m]\u001b[0m \u001b[0;34m=\u001b[0m \u001b[0mmin_max\u001b[0m\u001b[0;34m(\u001b[0m\u001b[0mpredata\u001b[0m\u001b[0;34m[\u001b[0m\u001b[0;34m\"最寄駅：距離（分）\"\u001b[0m\u001b[0;34m]\u001b[0m\u001b[0;34m.\u001b[0m\u001b[0mvalues\u001b[0m\u001b[0;34m)\u001b[0m\u001b[0;34m\u001b[0m\u001b[0;34m\u001b[0m\u001b[0m\n\u001b[0m\u001b[1;32m     10\u001b[0m \u001b[0mpredata\u001b[0m\u001b[0;34m[\u001b[0m\u001b[0;34m\"面積（㎡）\"\u001b[0m\u001b[0;34m]\u001b[0m \u001b[0;34m=\u001b[0m \u001b[0mmin_max\u001b[0m\u001b[0;34m(\u001b[0m\u001b[0mpredata\u001b[0m\u001b[0;34m[\u001b[0m\u001b[0;34m\"専有面積\"\u001b[0m\u001b[0;34m]\u001b[0m\u001b[0;34m.\u001b[0m\u001b[0mvalues\u001b[0m\u001b[0;34m)\u001b[0m\u001b[0;34m\u001b[0m\u001b[0;34m\u001b[0m\u001b[0m\n\u001b[1;32m     11\u001b[0m \u001b[0mpredata\u001b[0m\u001b[0;34m[\u001b[0m\u001b[0;34m\"延床面積（㎡）\"\u001b[0m\u001b[0;34m]\u001b[0m \u001b[0;34m=\u001b[0m \u001b[0mmin_max\u001b[0m\u001b[0;34m(\u001b[0m\u001b[0mpredata\u001b[0m\u001b[0;34m[\u001b[0m\u001b[0;34m\"部屋数\"\u001b[0m\u001b[0;34m]\u001b[0m\u001b[0;34m.\u001b[0m\u001b[0mvalues\u001b[0m\u001b[0;34m)\u001b[0m\u001b[0;34m\u001b[0m\u001b[0;34m\u001b[0m\u001b[0m\n",
      "\u001b[0;32m<ipython-input-8-c0440c39c2ec>\u001b[0m in \u001b[0;36mmin_max\u001b[0;34m(x)\u001b[0m\n\u001b[1;32m      1\u001b[0m \u001b[0;31m# 0 ~ 1 の範囲に正則化\u001b[0m\u001b[0;34m\u001b[0m\u001b[0;34m\u001b[0m\u001b[0;34m\u001b[0m\u001b[0m\n\u001b[1;32m      2\u001b[0m \u001b[0;32mdef\u001b[0m \u001b[0mmin_max\u001b[0m\u001b[0;34m(\u001b[0m\u001b[0mx\u001b[0m\u001b[0;34m)\u001b[0m\u001b[0;34m:\u001b[0m\u001b[0;34m\u001b[0m\u001b[0;34m\u001b[0m\u001b[0m\n\u001b[0;32m----> 3\u001b[0;31m     \u001b[0mmin_value\u001b[0m \u001b[0;34m=\u001b[0m \u001b[0mx\u001b[0m\u001b[0;34m.\u001b[0m\u001b[0mmin\u001b[0m\u001b[0;34m(\u001b[0m\u001b[0;34m)\u001b[0m\u001b[0;34m\u001b[0m\u001b[0;34m\u001b[0m\u001b[0m\n\u001b[0m\u001b[1;32m      4\u001b[0m     \u001b[0mmax_value\u001b[0m \u001b[0;34m=\u001b[0m \u001b[0mx\u001b[0m\u001b[0;34m.\u001b[0m\u001b[0mmax\u001b[0m\u001b[0;34m(\u001b[0m\u001b[0;34m)\u001b[0m\u001b[0;34m\u001b[0m\u001b[0;34m\u001b[0m\u001b[0m\n\u001b[1;32m      5\u001b[0m     \u001b[0mresult\u001b[0m \u001b[0;34m=\u001b[0m \u001b[0;34m(\u001b[0m\u001b[0mx\u001b[0m \u001b[0;34m-\u001b[0m \u001b[0mmin_value\u001b[0m\u001b[0;34m)\u001b[0m\u001b[0;34m/\u001b[0m\u001b[0;34m(\u001b[0m\u001b[0mmax_value\u001b[0m \u001b[0;34m-\u001b[0m \u001b[0mmin_value\u001b[0m\u001b[0;34m)\u001b[0m\u001b[0;34m\u001b[0m\u001b[0;34m\u001b[0m\u001b[0m\n",
      "\u001b[0;32m~/anaconda3/envs/salary_pred/lib/python3.7/site-packages/numpy/core/_methods.py\u001b[0m in \u001b[0;36m_amin\u001b[0;34m(a, axis, out, keepdims, initial, where)\u001b[0m\n\u001b[1;32m     32\u001b[0m def _amin(a, axis=None, out=None, keepdims=False,\n\u001b[1;32m     33\u001b[0m           initial=_NoValue, where=True):\n\u001b[0;32m---> 34\u001b[0;31m     \u001b[0;32mreturn\u001b[0m \u001b[0mumr_minimum\u001b[0m\u001b[0;34m(\u001b[0m\u001b[0ma\u001b[0m\u001b[0;34m,\u001b[0m \u001b[0maxis\u001b[0m\u001b[0;34m,\u001b[0m \u001b[0;32mNone\u001b[0m\u001b[0;34m,\u001b[0m \u001b[0mout\u001b[0m\u001b[0;34m,\u001b[0m \u001b[0mkeepdims\u001b[0m\u001b[0;34m,\u001b[0m \u001b[0minitial\u001b[0m\u001b[0;34m,\u001b[0m \u001b[0mwhere\u001b[0m\u001b[0;34m)\u001b[0m\u001b[0;34m\u001b[0m\u001b[0;34m\u001b[0m\u001b[0m\n\u001b[0m\u001b[1;32m     35\u001b[0m \u001b[0;34m\u001b[0m\u001b[0m\n\u001b[1;32m     36\u001b[0m def _sum(a, axis=None, dtype=None, out=None, keepdims=False,\n",
      "\u001b[0;31mTypeError\u001b[0m: '<=' not supported between instances of 'str' and 'float'"
     ]
    }
   ],
   "source": [
    "# 0 ~ 1 の範囲に正則化\n",
    "def min_max(x):\n",
    "    min_value = x.min()\n",
    "    max_value = x.max()\n",
    "    result = (x - min_value)/(max_value - min_value)\n",
    "    return result\n",
    "\n",
    "num_list = [\n",
    "    \"TimeToNearestStation\", \"TotalFloorArea\", \"Area\", \"Frontage\", \"BuildingYear\", \"BuildingAge\", \n",
    "    \"Breadth\", \"CoverageRatio\", \"FloorAreaRatio\", \"Period\"\n",
    "    ]\n",
    "for num in num_list:\n",
    "    predata[num] = min_max(predata[num])\n",
    "    \n",
    "   "
   ]
  },
  {
   "cell_type": "code",
   "execution_count": 7,
   "metadata": {
    "colab": {},
    "colab_type": "code",
    "id": "jdfDKj5LYHV9"
   },
   "outputs": [
    {
     "ename": "ValueError",
     "evalue": "nan is not in list",
     "output_type": "error",
     "traceback": [
      "\u001b[0;31m---------------------------------------------------------------------------\u001b[0m",
      "\u001b[0;31mValueError\u001b[0m                                Traceback (most recent call last)",
      "\u001b[0;32m<ipython-input-7-ae551779b143>\u001b[0m in \u001b[0;36m<module>\u001b[0;34m\u001b[0m\n\u001b[1;32m      1\u001b[0m \u001b[0;31m#train test split\u001b[0m\u001b[0;34m\u001b[0m\u001b[0;34m\u001b[0m\u001b[0;34m\u001b[0m\u001b[0m\n\u001b[0;32m----> 2\u001b[0;31m \u001b[0mX\u001b[0m \u001b[0;34m=\u001b[0m \u001b[0mcreate_feature\u001b[0m\u001b[0;34m(\u001b[0m\u001b[0mpredata\u001b[0m\u001b[0;34m)\u001b[0m\u001b[0;34m\u001b[0m\u001b[0;34m\u001b[0m\u001b[0m\n\u001b[0m\u001b[1;32m      3\u001b[0m \u001b[0mY\u001b[0m \u001b[0;34m=\u001b[0m \u001b[0mdf\u001b[0m\u001b[0;34m.\u001b[0m\u001b[0mvalues\u001b[0m\u001b[0;34m\u001b[0m\u001b[0;34m\u001b[0m\u001b[0m\n\u001b[1;32m      4\u001b[0m \u001b[0;34m\u001b[0m\u001b[0m\n\u001b[1;32m      5\u001b[0m \u001b[0;31m#prep_train = pd.concat([df, predata.iloc[:len(train), :]], axis=1)\u001b[0m\u001b[0;34m\u001b[0m\u001b[0;34m\u001b[0m\u001b[0;34m\u001b[0m\u001b[0m\n",
      "\u001b[0;32m<ipython-input-4-5fe75bb48279>\u001b[0m in \u001b[0;36mcreate_feature\u001b[0;34m(data)\u001b[0m\n\u001b[1;32m     17\u001b[0m         \u001b[0mcat_indices\u001b[0m \u001b[0;34m=\u001b[0m \u001b[0;34m[\u001b[0m\u001b[0;34m]\u001b[0m\u001b[0;34m\u001b[0m\u001b[0;34m\u001b[0m\u001b[0m\n\u001b[1;32m     18\u001b[0m         \u001b[0;32mfor\u001b[0m \u001b[0mcat_datum\u001b[0m \u001b[0;32min\u001b[0m \u001b[0mcat_data\u001b[0m\u001b[0;34m:\u001b[0m\u001b[0;34m\u001b[0m\u001b[0;34m\u001b[0m\u001b[0m\n\u001b[0;32m---> 19\u001b[0;31m             \u001b[0mcat_indices\u001b[0m\u001b[0;34m.\u001b[0m\u001b[0mappend\u001b[0m\u001b[0;34m(\u001b[0m\u001b[0mcat_categories\u001b[0m\u001b[0;34m.\u001b[0m\u001b[0mindex\u001b[0m\u001b[0;34m(\u001b[0m\u001b[0mcat_datum\u001b[0m\u001b[0;34m)\u001b[0m\u001b[0;34m)\u001b[0m\u001b[0;34m\u001b[0m\u001b[0;34m\u001b[0m\u001b[0m\n\u001b[0m\u001b[1;32m     20\u001b[0m         \u001b[0mfeature\u001b[0m\u001b[0;34m[\u001b[0m\u001b[0mcat_col\u001b[0m\u001b[0;34m]\u001b[0m \u001b[0;34m=\u001b[0m \u001b[0mnp\u001b[0m\u001b[0;34m.\u001b[0m\u001b[0meye\u001b[0m\u001b[0;34m(\u001b[0m\u001b[0mlen\u001b[0m\u001b[0;34m(\u001b[0m\u001b[0mcat_categories\u001b[0m\u001b[0;34m)\u001b[0m\u001b[0;34m)\u001b[0m\u001b[0;34m[\u001b[0m\u001b[0mcat_indices\u001b[0m\u001b[0;34m]\u001b[0m\u001b[0;34m\u001b[0m\u001b[0;34m\u001b[0m\u001b[0m\n\u001b[1;32m     21\u001b[0m \u001b[0;34m\u001b[0m\u001b[0m\n",
      "\u001b[0;31mValueError\u001b[0m: nan is not in list"
     ]
    }
   ],
   "source": [
    "#train test split\n",
    "prep_train = predata.iloc[:len(train), :]\n",
    "prep_test = predata.iloc[len(train):, :]\n",
    "\n",
    "x_train = prep_train.values\n",
    "y_train = df.values\n",
    "x_test = prep_test\n",
    "\n",
    "x_train, x_valid, y_train, y_valid = train_test_split(x_train, y_train, test_size=0.3, rabdom_state=71)\n",
    "\n"
   ]
  },
  {
   "cell_type": "code",
   "execution_count": null,
   "metadata": {},
   "outputs": [],
   "source": []
  },
  {
   "cell_type": "code",
   "execution_count": 0,
   "metadata": {
    "colab": {
     "base_uri": "https://localhost:8080/",
     "height": 1000
    },
    "colab_type": "code",
    "id": "PCGIlQkzYJKS",
    "outputId": "a8dd9b73-e1e1-4cf3-d480-320d75102d38"
   },
   "outputs": [
    {
     "name": "stdout",
     "output_type": "stream",
     "text": [
      "WARNING:tensorflow:`period` argument is deprecated. Please use `save_freq` to specify the frequency in number of samples seen.\n",
      "Train on 30000 samples, validate on 5000 samples\n",
      "Epoch 1/100\n",
      "30000/30000 [==============================] - 3s 94us/sample - loss: 63.4185 - mean_absolute_percentage_error: 63.4185 - val_loss: 29.3284 - val_mean_absolute_percentage_error: 29.3284\n",
      "Epoch 2/100\n",
      "30000/30000 [==============================] - 3s 89us/sample - loss: 13.7878 - mean_absolute_percentage_error: 13.7878 - val_loss: 9.4491 - val_mean_absolute_percentage_error: 9.4491\n",
      "Epoch 3/100\n",
      "30000/30000 [==============================] - 3s 89us/sample - loss: 9.5135 - mean_absolute_percentage_error: 9.5135 - val_loss: 9.2566 - val_mean_absolute_percentage_error: 9.2566\n",
      "Epoch 4/100\n",
      "30000/30000 [==============================] - 3s 89us/sample - loss: 9.2067 - mean_absolute_percentage_error: 9.2067 - val_loss: 8.8954 - val_mean_absolute_percentage_error: 8.8954\n",
      "Epoch 5/100\n",
      "30000/30000 [==============================] - 3s 88us/sample - loss: 8.9930 - mean_absolute_percentage_error: 8.9930 - val_loss: 9.5917 - val_mean_absolute_percentage_error: 9.5917\n",
      "Epoch 6/100\n",
      "30000/30000 [==============================] - 3s 88us/sample - loss: 8.8110 - mean_absolute_percentage_error: 8.8110 - val_loss: 8.6393 - val_mean_absolute_percentage_error: 8.6393\n",
      "Epoch 7/100\n",
      "30000/30000 [==============================] - 3s 89us/sample - loss: 8.6092 - mean_absolute_percentage_error: 8.6092 - val_loss: 8.5341 - val_mean_absolute_percentage_error: 8.5341\n",
      "Epoch 8/100\n",
      "30000/30000 [==============================] - 3s 90us/sample - loss: 8.7947 - mean_absolute_percentage_error: 8.7947 - val_loss: 8.5554 - val_mean_absolute_percentage_error: 8.5554\n",
      "Epoch 9/100\n",
      "30000/30000 [==============================] - 3s 90us/sample - loss: 8.6757 - mean_absolute_percentage_error: 8.6757 - val_loss: 9.6621 - val_mean_absolute_percentage_error: 9.6621\n",
      "Epoch 10/100\n",
      "30000/30000 [==============================] - 3s 90us/sample - loss: 8.5711 - mean_absolute_percentage_error: 8.5711 - val_loss: 8.7592 - val_mean_absolute_percentage_error: 8.7592\n",
      "Epoch 11/100\n",
      "30000/30000 [==============================] - 3s 92us/sample - loss: 8.7195 - mean_absolute_percentage_error: 8.7195 - val_loss: 8.7350 - val_mean_absolute_percentage_error: 8.7350\n",
      "Epoch 12/100\n",
      "30000/30000 [==============================] - 3s 92us/sample - loss: 8.6310 - mean_absolute_percentage_error: 8.6310 - val_loss: 8.4389 - val_mean_absolute_percentage_error: 8.4389\n",
      "Epoch 13/100\n",
      "30000/30000 [==============================] - 3s 90us/sample - loss: 8.5832 - mean_absolute_percentage_error: 8.5832 - val_loss: 8.9896 - val_mean_absolute_percentage_error: 8.9896\n",
      "Epoch 14/100\n",
      "30000/30000 [==============================] - 3s 90us/sample - loss: 8.3854 - mean_absolute_percentage_error: 8.3854 - val_loss: 8.2637 - val_mean_absolute_percentage_error: 8.2637\n",
      "Epoch 15/100\n",
      "30000/30000 [==============================] - 3s 90us/sample - loss: 8.5452 - mean_absolute_percentage_error: 8.5452 - val_loss: 8.2915 - val_mean_absolute_percentage_error: 8.2915\n",
      "Epoch 16/100\n",
      "30000/30000 [==============================] - 3s 88us/sample - loss: 8.4100 - mean_absolute_percentage_error: 8.4100 - val_loss: 8.4222 - val_mean_absolute_percentage_error: 8.4222\n",
      "Epoch 17/100\n",
      "30000/30000 [==============================] - 3s 89us/sample - loss: 8.2878 - mean_absolute_percentage_error: 8.2878 - val_loss: 8.1258 - val_mean_absolute_percentage_error: 8.1258\n",
      "Epoch 18/100\n",
      "30000/30000 [==============================] - 3s 89us/sample - loss: 8.5423 - mean_absolute_percentage_error: 8.5423 - val_loss: 8.5270 - val_mean_absolute_percentage_error: 8.5270\n",
      "Epoch 19/100\n",
      "30000/30000 [==============================] - 3s 91us/sample - loss: 8.3587 - mean_absolute_percentage_error: 8.3587 - val_loss: 8.1026 - val_mean_absolute_percentage_error: 8.1026\n",
      "Epoch 20/100\n",
      "30000/30000 [==============================] - 3s 91us/sample - loss: 8.0353 - mean_absolute_percentage_error: 8.0353 - val_loss: 8.1502 - val_mean_absolute_percentage_error: 8.1502\n",
      "Epoch 21/100\n",
      "30000/30000 [==============================] - 3s 91us/sample - loss: 8.1355 - mean_absolute_percentage_error: 8.1355 - val_loss: 7.9566 - val_mean_absolute_percentage_error: 7.9566\n",
      "Epoch 22/100\n",
      "30000/30000 [==============================] - 3s 90us/sample - loss: 8.1158 - mean_absolute_percentage_error: 8.1158 - val_loss: 8.1198 - val_mean_absolute_percentage_error: 8.1198\n",
      "Epoch 23/100\n",
      "30000/30000 [==============================] - 3s 90us/sample - loss: 8.2926 - mean_absolute_percentage_error: 8.2926 - val_loss: 9.5848 - val_mean_absolute_percentage_error: 9.5848\n",
      "Epoch 24/100\n",
      "30000/30000 [==============================] - 3s 89us/sample - loss: 8.0981 - mean_absolute_percentage_error: 8.0981 - val_loss: 8.1485 - val_mean_absolute_percentage_error: 8.1485\n",
      "Epoch 25/100\n",
      "30000/30000 [==============================] - 3s 90us/sample - loss: 7.9353 - mean_absolute_percentage_error: 7.9353 - val_loss: 8.2896 - val_mean_absolute_percentage_error: 8.2896\n",
      "Epoch 26/100\n",
      "30000/30000 [==============================] - 3s 90us/sample - loss: 7.9916 - mean_absolute_percentage_error: 7.9916 - val_loss: 7.9630 - val_mean_absolute_percentage_error: 7.9630\n",
      "Epoch 27/100\n",
      "30000/30000 [==============================] - 3s 91us/sample - loss: 7.8353 - mean_absolute_percentage_error: 7.8353 - val_loss: 8.3328 - val_mean_absolute_percentage_error: 8.3328\n",
      "Epoch 28/100\n",
      "30000/30000 [==============================] - 3s 90us/sample - loss: 7.7269 - mean_absolute_percentage_error: 7.7269 - val_loss: 8.7943 - val_mean_absolute_percentage_error: 8.7943\n",
      "Epoch 29/100\n",
      "30000/30000 [==============================] - 3s 91us/sample - loss: 8.0946 - mean_absolute_percentage_error: 8.0946 - val_loss: 8.0248 - val_mean_absolute_percentage_error: 8.0248\n",
      "Epoch 30/100\n",
      "30000/30000 [==============================] - 3s 90us/sample - loss: 7.9326 - mean_absolute_percentage_error: 7.9326 - val_loss: 10.2238 - val_mean_absolute_percentage_error: 10.2238\n",
      "Epoch 31/100\n",
      "30000/30000 [==============================] - 3s 91us/sample - loss: 8.3476 - mean_absolute_percentage_error: 8.3476 - val_loss: 10.7267 - val_mean_absolute_percentage_error: 10.7267\n",
      "Epoch 32/100\n",
      "30000/30000 [==============================] - 3s 90us/sample - loss: 8.7491 - mean_absolute_percentage_error: 8.7491 - val_loss: 8.9588 - val_mean_absolute_percentage_error: 8.9588\n",
      "Epoch 33/100\n",
      "30000/30000 [==============================] - 3s 91us/sample - loss: 8.1142 - mean_absolute_percentage_error: 8.1142 - val_loss: 9.0409 - val_mean_absolute_percentage_error: 9.0409\n",
      "Epoch 34/100\n",
      "30000/30000 [==============================] - 3s 90us/sample - loss: 7.7778 - mean_absolute_percentage_error: 7.7778 - val_loss: 8.3088 - val_mean_absolute_percentage_error: 8.3088\n",
      "Epoch 35/100\n",
      "30000/30000 [==============================] - 3s 90us/sample - loss: 7.5722 - mean_absolute_percentage_error: 7.5722 - val_loss: 8.6664 - val_mean_absolute_percentage_error: 8.6664\n",
      "Epoch 36/100\n",
      "30000/30000 [==============================] - 3s 90us/sample - loss: 7.8709 - mean_absolute_percentage_error: 7.8709 - val_loss: 7.6395 - val_mean_absolute_percentage_error: 7.6395\n",
      "Epoch 37/100\n",
      "30000/30000 [==============================] - 3s 91us/sample - loss: 7.6253 - mean_absolute_percentage_error: 7.6253 - val_loss: 7.7683 - val_mean_absolute_percentage_error: 7.7683\n",
      "Epoch 38/100\n",
      "30000/30000 [==============================] - 3s 90us/sample - loss: 7.4845 - mean_absolute_percentage_error: 7.4845 - val_loss: 7.6465 - val_mean_absolute_percentage_error: 7.6465\n",
      "Epoch 39/100\n",
      "30000/30000 [==============================] - 3s 90us/sample - loss: 7.4416 - mean_absolute_percentage_error: 7.4416 - val_loss: 8.0056 - val_mean_absolute_percentage_error: 8.0056\n",
      "Epoch 40/100\n",
      "30000/30000 [==============================] - 3s 90us/sample - loss: 7.5185 - mean_absolute_percentage_error: 7.5185 - val_loss: 7.8917 - val_mean_absolute_percentage_error: 7.8917\n",
      "Epoch 41/100\n",
      "30000/30000 [==============================] - 3s 89us/sample - loss: 7.5960 - mean_absolute_percentage_error: 7.5960 - val_loss: 7.6522 - val_mean_absolute_percentage_error: 7.6522\n",
      "Epoch 42/100\n",
      "30000/30000 [==============================] - 3s 90us/sample - loss: 7.4922 - mean_absolute_percentage_error: 7.4922 - val_loss: 7.8045 - val_mean_absolute_percentage_error: 7.8045\n",
      "Epoch 43/100\n",
      "30000/30000 [==============================] - 3s 90us/sample - loss: 7.4760 - mean_absolute_percentage_error: 7.4760 - val_loss: 8.1040 - val_mean_absolute_percentage_error: 8.1040\n",
      "Epoch 44/100\n",
      "30000/30000 [==============================] - 3s 90us/sample - loss: 7.4254 - mean_absolute_percentage_error: 7.4254 - val_loss: 7.6508 - val_mean_absolute_percentage_error: 7.6508\n",
      "Epoch 45/100\n",
      "30000/30000 [==============================] - 3s 89us/sample - loss: 7.6117 - mean_absolute_percentage_error: 7.6117 - val_loss: 8.0465 - val_mean_absolute_percentage_error: 8.0465\n",
      "Epoch 46/100\n",
      "30000/30000 [==============================] - 3s 90us/sample - loss: 7.4980 - mean_absolute_percentage_error: 7.4980 - val_loss: 7.8444 - val_mean_absolute_percentage_error: 7.8444\n",
      "Epoch 47/100\n",
      "30000/30000 [==============================] - 3s 90us/sample - loss: 7.9742 - mean_absolute_percentage_error: 7.9742 - val_loss: 8.2149 - val_mean_absolute_percentage_error: 8.2149\n",
      "Epoch 48/100\n",
      "30000/30000 [==============================] - 3s 90us/sample - loss: 7.6100 - mean_absolute_percentage_error: 7.6100 - val_loss: 8.2070 - val_mean_absolute_percentage_error: 8.2070\n",
      "Epoch 49/100\n",
      "30000/30000 [==============================] - 3s 91us/sample - loss: 7.4426 - mean_absolute_percentage_error: 7.4426 - val_loss: 7.5830 - val_mean_absolute_percentage_error: 7.5830\n",
      "Epoch 50/100\n",
      "30000/30000 [==============================] - 3s 90us/sample - loss: 7.5561 - mean_absolute_percentage_error: 7.5561 - val_loss: 8.8751 - val_mean_absolute_percentage_error: 8.8751\n",
      "Epoch 51/100\n",
      "30000/30000 [==============================] - 3s 91us/sample - loss: 7.4087 - mean_absolute_percentage_error: 7.4087 - val_loss: 7.6113 - val_mean_absolute_percentage_error: 7.6113\n",
      "Epoch 52/100\n",
      "30000/30000 [==============================] - 3s 90us/sample - loss: 7.5657 - mean_absolute_percentage_error: 7.5657 - val_loss: 7.6462 - val_mean_absolute_percentage_error: 7.6462\n",
      "Epoch 53/100\n",
      "30000/30000 [==============================] - 3s 90us/sample - loss: 7.5405 - mean_absolute_percentage_error: 7.5405 - val_loss: 8.2327 - val_mean_absolute_percentage_error: 8.2327\n",
      "Epoch 54/100\n",
      "30000/30000 [==============================] - 3s 90us/sample - loss: 7.7574 - mean_absolute_percentage_error: 7.7574 - val_loss: 7.8880 - val_mean_absolute_percentage_error: 7.8880\n",
      "Epoch 55/100\n",
      "30000/30000 [==============================] - 3s 89us/sample - loss: 7.4382 - mean_absolute_percentage_error: 7.4382 - val_loss: 7.6754 - val_mean_absolute_percentage_error: 7.6754\n",
      "Epoch 56/100\n",
      "30000/30000 [==============================] - 3s 89us/sample - loss: 7.3369 - mean_absolute_percentage_error: 7.3369 - val_loss: 7.9059 - val_mean_absolute_percentage_error: 7.9059\n",
      "Epoch 57/100\n",
      "30000/30000 [==============================] - 3s 90us/sample - loss: 7.3825 - mean_absolute_percentage_error: 7.3825 - val_loss: 7.7061 - val_mean_absolute_percentage_error: 7.7061\n",
      "Epoch 58/100\n",
      "30000/30000 [==============================] - 3s 91us/sample - loss: 7.3627 - mean_absolute_percentage_error: 7.3627 - val_loss: 8.1427 - val_mean_absolute_percentage_error: 8.1427\n",
      "Epoch 59/100\n",
      "30000/30000 [==============================] - 3s 91us/sample - loss: 7.4312 - mean_absolute_percentage_error: 7.4312 - val_loss: 8.2606 - val_mean_absolute_percentage_error: 8.2606\n",
      "Epoch 60/100\n",
      "30000/30000 [==============================] - 3s 92us/sample - loss: 7.5518 - mean_absolute_percentage_error: 7.5518 - val_loss: 7.8354 - val_mean_absolute_percentage_error: 7.8354\n",
      "Epoch 61/100\n",
      "30000/30000 [==============================] - 3s 91us/sample - loss: 7.4542 - mean_absolute_percentage_error: 7.4542 - val_loss: 8.3147 - val_mean_absolute_percentage_error: 8.3147\n",
      "Epoch 62/100\n",
      "30000/30000 [==============================] - 3s 92us/sample - loss: 7.3370 - mean_absolute_percentage_error: 7.3370 - val_loss: 7.7720 - val_mean_absolute_percentage_error: 7.7720\n",
      "Epoch 63/100\n",
      "30000/30000 [==============================] - 3s 92us/sample - loss: 7.3348 - mean_absolute_percentage_error: 7.3348 - val_loss: 7.7555 - val_mean_absolute_percentage_error: 7.7555\n",
      "Epoch 64/100\n",
      "30000/30000 [==============================] - 3s 92us/sample - loss: 7.5412 - mean_absolute_percentage_error: 7.5412 - val_loss: 7.5973 - val_mean_absolute_percentage_error: 7.5973\n",
      "Epoch 65/100\n",
      "30000/30000 [==============================] - 3s 91us/sample - loss: 7.2757 - mean_absolute_percentage_error: 7.2757 - val_loss: 7.6898 - val_mean_absolute_percentage_error: 7.6898\n",
      "Epoch 66/100\n",
      "30000/30000 [==============================] - 3s 91us/sample - loss: 7.2492 - mean_absolute_percentage_error: 7.2492 - val_loss: 8.1287 - val_mean_absolute_percentage_error: 8.1287\n",
      "Epoch 67/100\n",
      "30000/30000 [==============================] - 3s 90us/sample - loss: 7.2730 - mean_absolute_percentage_error: 7.2730 - val_loss: 8.0627 - val_mean_absolute_percentage_error: 8.0627\n",
      "Epoch 68/100\n",
      "30000/30000 [==============================] - 3s 90us/sample - loss: 7.3745 - mean_absolute_percentage_error: 7.3745 - val_loss: 7.6793 - val_mean_absolute_percentage_error: 7.6793\n",
      "Epoch 69/100\n",
      "30000/30000 [==============================] - 3s 90us/sample - loss: 7.2813 - mean_absolute_percentage_error: 7.2813 - val_loss: 7.7465 - val_mean_absolute_percentage_error: 7.7465\n",
      "Epoch 70/100\n",
      "30000/30000 [==============================] - 3s 90us/sample - loss: 7.3557 - mean_absolute_percentage_error: 7.3557 - val_loss: 8.8303 - val_mean_absolute_percentage_error: 8.8303\n",
      "Epoch 71/100\n",
      "30000/30000 [==============================] - 3s 90us/sample - loss: 7.4371 - mean_absolute_percentage_error: 7.4371 - val_loss: 7.6148 - val_mean_absolute_percentage_error: 7.6148\n",
      "Epoch 72/100\n",
      "30000/30000 [==============================] - 3s 90us/sample - loss: 7.2397 - mean_absolute_percentage_error: 7.2397 - val_loss: 7.7959 - val_mean_absolute_percentage_error: 7.7958\n",
      "Epoch 73/100\n",
      "30000/30000 [==============================] - 3s 90us/sample - loss: 7.2112 - mean_absolute_percentage_error: 7.2112 - val_loss: 7.8411 - val_mean_absolute_percentage_error: 7.8411\n",
      "Epoch 74/100\n",
      "30000/30000 [==============================] - 3s 90us/sample - loss: 7.3008 - mean_absolute_percentage_error: 7.3008 - val_loss: 7.7148 - val_mean_absolute_percentage_error: 7.7148\n",
      "Epoch 75/100\n",
      "30000/30000 [==============================] - 3s 91us/sample - loss: 7.3022 - mean_absolute_percentage_error: 7.3022 - val_loss: 8.3517 - val_mean_absolute_percentage_error: 8.3517\n",
      "Epoch 76/100\n",
      "30000/30000 [==============================] - 3s 90us/sample - loss: 7.2144 - mean_absolute_percentage_error: 7.2144 - val_loss: 7.6748 - val_mean_absolute_percentage_error: 7.6748\n",
      "Epoch 77/100\n",
      "30000/30000 [==============================] - 3s 90us/sample - loss: 7.2706 - mean_absolute_percentage_error: 7.2706 - val_loss: 7.6598 - val_mean_absolute_percentage_error: 7.6598\n",
      "Epoch 78/100\n",
      "30000/30000 [==============================] - 3s 88us/sample - loss: 7.2999 - mean_absolute_percentage_error: 7.2999 - val_loss: 7.5751 - val_mean_absolute_percentage_error: 7.5751\n",
      "Epoch 79/100\n",
      "30000/30000 [==============================] - 3s 90us/sample - loss: 7.3396 - mean_absolute_percentage_error: 7.3396 - val_loss: 7.7436 - val_mean_absolute_percentage_error: 7.7436\n",
      "Epoch 80/100\n",
      "30000/30000 [==============================] - 3s 92us/sample - loss: 7.5512 - mean_absolute_percentage_error: 7.5512 - val_loss: 8.0468 - val_mean_absolute_percentage_error: 8.0468\n",
      "Epoch 81/100\n",
      "30000/30000 [==============================] - 3s 91us/sample - loss: 7.3223 - mean_absolute_percentage_error: 7.3223 - val_loss: 7.9524 - val_mean_absolute_percentage_error: 7.9524\n",
      "Epoch 82/100\n",
      "30000/30000 [==============================] - 3s 91us/sample - loss: 7.4069 - mean_absolute_percentage_error: 7.4069 - val_loss: 7.8959 - val_mean_absolute_percentage_error: 7.8959\n",
      "Epoch 83/100\n",
      "30000/30000 [==============================] - 3s 89us/sample - loss: 7.1140 - mean_absolute_percentage_error: 7.1140 - val_loss: 7.7031 - val_mean_absolute_percentage_error: 7.7031\n",
      "Epoch 84/100\n",
      "30000/30000 [==============================] - 3s 90us/sample - loss: 7.1297 - mean_absolute_percentage_error: 7.1297 - val_loss: 7.7249 - val_mean_absolute_percentage_error: 7.7249\n",
      "Epoch 85/100\n",
      "30000/30000 [==============================] - 3s 89us/sample - loss: 7.5690 - mean_absolute_percentage_error: 7.5690 - val_loss: 7.6780 - val_mean_absolute_percentage_error: 7.6780\n",
      "Epoch 86/100\n",
      "30000/30000 [==============================] - 3s 89us/sample - loss: 7.1084 - mean_absolute_percentage_error: 7.1084 - val_loss: 7.5852 - val_mean_absolute_percentage_error: 7.5852\n",
      "Epoch 87/100\n",
      "30000/30000 [==============================] - 3s 90us/sample - loss: 7.4439 - mean_absolute_percentage_error: 7.4439 - val_loss: 7.6626 - val_mean_absolute_percentage_error: 7.6626\n",
      "Epoch 88/100\n",
      "30000/30000 [==============================] - 3s 90us/sample - loss: 7.0427 - mean_absolute_percentage_error: 7.0427 - val_loss: 7.7362 - val_mean_absolute_percentage_error: 7.7362\n",
      "Epoch 89/100\n",
      "30000/30000 [==============================] - 3s 90us/sample - loss: 7.3245 - mean_absolute_percentage_error: 7.3245 - val_loss: 7.5289 - val_mean_absolute_percentage_error: 7.5289\n",
      "Epoch 90/100\n",
      "30000/30000 [==============================] - 3s 88us/sample - loss: 7.1908 - mean_absolute_percentage_error: 7.1908 - val_loss: 7.5134 - val_mean_absolute_percentage_error: 7.5134\n",
      "Epoch 91/100\n",
      "30000/30000 [==============================] - 3s 89us/sample - loss: 7.1054 - mean_absolute_percentage_error: 7.1054 - val_loss: 7.5827 - val_mean_absolute_percentage_error: 7.5827\n",
      "Epoch 92/100\n",
      "30000/30000 [==============================] - 3s 91us/sample - loss: 7.1052 - mean_absolute_percentage_error: 7.1052 - val_loss: 9.3286 - val_mean_absolute_percentage_error: 9.3286\n",
      "Epoch 93/100\n",
      "30000/30000 [==============================] - 3s 89us/sample - loss: 7.1945 - mean_absolute_percentage_error: 7.1945 - val_loss: 7.6097 - val_mean_absolute_percentage_error: 7.6097\n",
      "Epoch 94/100\n",
      "30000/30000 [==============================] - 3s 89us/sample - loss: 7.0617 - mean_absolute_percentage_error: 7.0617 - val_loss: 7.5205 - val_mean_absolute_percentage_error: 7.5205\n",
      "Epoch 95/100\n",
      "30000/30000 [==============================] - 3s 89us/sample - loss: 7.0069 - mean_absolute_percentage_error: 7.0069 - val_loss: 7.9850 - val_mean_absolute_percentage_error: 7.9850\n",
      "Epoch 96/100\n",
      "30000/30000 [==============================] - 3s 90us/sample - loss: 7.3301 - mean_absolute_percentage_error: 7.3301 - val_loss: 8.0662 - val_mean_absolute_percentage_error: 8.0662\n",
      "Epoch 97/100\n",
      "30000/30000 [==============================] - 3s 89us/sample - loss: 7.0329 - mean_absolute_percentage_error: 7.0329 - val_loss: 7.7688 - val_mean_absolute_percentage_error: 7.7688\n",
      "Epoch 98/100\n",
      "30000/30000 [==============================] - 3s 89us/sample - loss: 7.0592 - mean_absolute_percentage_error: 7.0592 - val_loss: 7.6503 - val_mean_absolute_percentage_error: 7.6503\n",
      "Epoch 99/100\n",
      "30000/30000 [==============================] - 3s 88us/sample - loss: 7.1270 - mean_absolute_percentage_error: 7.1270 - val_loss: 7.6274 - val_mean_absolute_percentage_error: 7.6274\n",
      "Epoch 100/100\n",
      "30000/30000 [==============================] - 3s 90us/sample - loss: 7.1190 - mean_absolute_percentage_error: 7.1190 - val_loss: 7.7247 - val_mean_absolute_percentage_error: 7.7247\n"
     ]
    },
    {
     "data": {
      "text/plain": [
       "<tensorflow.python.keras.callbacks.History at 0x7f2ad96010f0>"
      ]
     },
     "execution_count": 89,
     "metadata": {
      "tags": []
     },
     "output_type": "execute_result"
    }
   ],
   "source": [
    "# train\n",
    "model = MLP()\n",
    "tensorboard = TensorBoard(log_dir=\"logs\")\n",
    "checkpoint = tf.keras.callbacks.ModelCheckpoint(\n",
    "    \"./checkpoint/MLP-{epoch:04d}.ckpt\",\n",
    "    verbose=1,\n",
    "    save_weights_only=True,\n",
    "    period=500\n",
    ")\n",
    "model.compile(\n",
    "    optimizer=tf.keras.optimizers.Adam(lr=1e-1),\n",
    "    loss='mean_squared_error',\n",
    "    metrics=[\n",
    "        \"mean_squared_error\", \n",
    " #       \"mean_absolute_error\",\n",
    " #       \"mean_squared_error\"\n",
    "    ]\n",
    ")\n",
    "model.fit(\n",
    "    x_train, \n",
    "    y_train, \n",
    "    epochs=100,\n",
    "    batch_size=512,\n",
    "    validation_data=(x_valid, y_valid),\n",
    "    callbacks=[tensorboard, checkpoint]\n",
    ")"
   ]
  },
  {
   "cell_type": "code",
   "execution_count": 0,
   "metadata": {
    "colab": {
     "base_uri": "https://localhost:8080/",
     "height": 85
    },
    "colab_type": "code",
    "id": "BccEgSQ3YLeu",
    "outputId": "2453890a-db83-4346-ba95-d9a549238161",
    "scrolled": true
   },
   "outputs": [
    {
     "name": "stdout",
     "output_type": "stream",
     "text": [
      "30000/30000 [==============================] - 2s 78us/sample - loss: 6.5726 - mean_absolute_percentage_error: 6.5726\n",
      "5000/5000 [==============================] - 0s 77us/sample - loss: 7.6253 - mean_absolute_percentage_error: 7.6253\n",
      "train mape : 6.573%\n",
      "valid mape : 7.625%\n"
     ]
    }
   ],
   "source": [
    "train_mse, train_acc = model.evaluate(x_train,  y_train)\n",
    "val_mse, val_acc = model.evaluate(x_valid,  y_valid)\n",
    "print(f'train rmse : {np.sqrt(train_rmse):.3f}%' )\n",
    "\n",
    "print(f'valid rmse : {np.sqrt(val_rmse):.3f}%' )"
   ]
  },
  {
   "cell_type": "code",
   "execution_count": 0,
   "metadata": {
    "colab": {
     "base_uri": "https://localhost:8080/",
     "height": 34
    },
    "colab_type": "code",
    "id": "zAc3R77sCu2i",
    "outputId": "1045b4e5-c90a-4287-cb93-d1f44a0bd32f"
   },
   "outputs": [
    {
     "data": {
      "text/plain": [
       "array([[19491340.]], dtype=float32)"
      ]
     },
     "execution_count": 91,
     "metadata": {
      "tags": []
     },
     "output_type": "execute_result"
    }
   ],
   "source": [
    "model.dropout1 = tf.keras.layers.Dropout(0.0)\n",
    "\n",
    "model.predict_on_batch(x_test)"
   ]
  },
  {
   "cell_type": "code",
   "execution_count": 0,
   "metadata": {
    "colab": {
     "base_uri": "https://localhost:8080/",
     "height": 34
    },
    "colab_type": "code",
    "id": "iY3gZZFHLvkr",
    "outputId": "7408d751-4a96-4a7b-ffe3-68a8d2a54a0f"
   },
   "outputs": [
    {
     "data": {
      "text/plain": [
       "array([[19491340.]], dtype=float32)"
      ]
     },
     "execution_count": 92,
     "metadata": {
      "tags": []
     },
     "output_type": "execute_result"
    }
   ],
   "source": [
    "model.dropout1 = tf.keras.layers.Dropout(0.0)\n",
    "data = data.append(pd.DataFrame.from_dict({\n",
    "    \"駅名\": [\"新橋\"],\n",
    "    \"建物構造\": [\"SRC\"],\n",
    "    \"徒歩分\": [10],\n",
    "    \"専有面積\": [30],\n",
    "    \"間取り\": [\"R\"],\n",
    "    \"部屋数\": [1],\n",
    "    \"築年\": [\"198001\"],\n",
    "    \"所在階\": [\"5\"],\n",
    "    \"成約価格\": [-1]\n",
    "})).reset_index(drop=True)\n",
    "X = create_feature(data)\n",
    "model.predict_on_batch(X[-1:])"
   ]
  },
  {
   "cell_type": "code",
   "execution_count": 0,
   "metadata": {
    "colab": {},
    "colab_type": "code",
    "id": "9jCKHt5uOMKU"
   },
   "outputs": [],
   "source": []
  },
  {
   "cell_type": "code",
   "execution_count": 0,
   "metadata": {
    "colab": {},
    "colab_type": "code",
    "id": "aP8tpHw-ONXr"
   },
   "outputs": [],
   "source": []
  }
 ],
 "metadata": {
  "colab": {
   "collapsed_sections": [],
   "name": "不動産AIのtensorflow実装.ipynb",
   "provenance": []
  },
  "kernelspec": {
   "display_name": "salaly_pred",
   "language": "python",
   "name": "saraly_pred"
  },
  "language_info": {
   "codemirror_mode": {
    "name": "ipython",
    "version": 3
   },
   "file_extension": ".py",
   "mimetype": "text/x-python",
   "name": "python",
   "nbconvert_exporter": "python",
   "pygments_lexer": "ipython3",
   "version": "3.7.5"
  }
 },
 "nbformat": 4,
 "nbformat_minor": 1
}
